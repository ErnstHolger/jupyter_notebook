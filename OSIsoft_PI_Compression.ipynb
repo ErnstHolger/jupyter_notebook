{
  "nbformat": 4,
  "nbformat_minor": 0,
  "metadata": {
    "colab": {
      "name": "OSIsoft PI Compression.ipynb",
      "provenance": [],
      "collapsed_sections": [],
      "authorship_tag": "ABX9TyOYLSn/qvQZ1Ms/Qh3gzSeK",
      "include_colab_link": true
    },
    "kernelspec": {
      "name": "python3",
      "display_name": "Python 3"
    },
    "language_info": {
      "name": "python"
    }
  },
  "cells": [
    {
      "cell_type": "markdown",
      "metadata": {
        "id": "view-in-github",
        "colab_type": "text"
      },
      "source": [
        "<a href=\"https://colab.research.google.com/github/ErnstHolger/jupyter_notebook/blob/main/OSIsoft_PI_Compression.ipynb\" target=\"_parent\"><img src=\"https://colab.research.google.com/assets/colab-badge.svg\" alt=\"Open In Colab\"/></a>"
      ]
    },
    {
      "cell_type": "code",
      "source": [
        "import math\n",
        "import datetime\n",
        "import plotly.express as px"
      ],
      "metadata": {
        "id": "7jaA1L_4Ww7M"
      },
      "execution_count": 15,
      "outputs": []
    },
    {
      "cell_type": "code",
      "source": [
        "def slope(firstValue, lastValue, threshold):\n",
        "  diff= (lastValue[0]-firstValue[0])\n",
        "  return (lastValue[1]+threshold-firstValue[1])/(diff.total_seconds() * 1000)"
      ],
      "metadata": {
        "id": "pkcZLJYMW2Db"
      },
      "execution_count": 3,
      "outputs": []
    },
    {
      "cell_type": "code",
      "execution_count": 35,
      "metadata": {
        "id": "5R9kT2V5SZzo"
      },
      "outputs": [],
      "source": [
        "class compression:\n",
        "  def __init__(self, threshold):\n",
        "    self.threshold=threshold\n",
        "    self.heldPoint=None\n",
        "    self.upperSlope=0\n",
        "    self.lowerSlope=0\n",
        "    self.archivedPoint=None\n",
        "    self.heldPoint=None\n",
        "\n",
        "  def calculate(self, timeStamp, value):\n",
        "    dv=(timeStamp, value)\n",
        "    if not self.archivedPoint:\n",
        "      self.archivedPoint = dv\n",
        "      self.LastRecordedValue = dv\n",
        "      return dv\n",
        "    if not self.heldPoint:\n",
        "      self.heldPoint=dv\n",
        "      self.upperSlope = slope(self.archivedPoint, self.heldPoint, self.threshold);\n",
        "      self.lowerSlope = slope(self.archivedPoint, self.heldPoint, -self.threshold);\n",
        "      return None\n",
        "    else:\n",
        "      pointSlope = slope(self.archivedPoint, dv, 0);\n",
        "      newUpperSlope = slope(self.archivedPoint, dv, self.threshold)\n",
        "      newLowerSlope = slope(self.archivedPoint, dv, -self.threshold)\n",
        "      if pointSlope <= self.upperSlope and pointSlope >= self.lowerSlope:\n",
        "        self.upperSlope = min(self.upperSlope, newUpperSlope);\n",
        "        self.lowerSlope = min(self.lowerSlope, newLowerSlope);\n",
        "        self.heldPoint = dv\n",
        "        return None\n",
        "      else:\n",
        "        self.archivedPoint = self.heldPoint\n",
        "        self.heldPoint = dv\n",
        "        self.upperSlope = slope(self.archivedPoint, self.heldPoint, self.threshold);\n",
        "        self.lowerSlope = slope(self.archivedPoint, self.heldPoint, -self.threshold);\n",
        "        self.lastRecordedValue = dv;\n",
        "        return self.archivedPoint"
      ]
    },
    {
      "cell_type": "code",
      "source": [
        "x=list(range(100))\n",
        "y=[math.sin(i/10) for i in x]\n",
        "dt=datetime.datetime(2022,1,1,8,0,0)\n",
        "x=[dt + datetime.timedelta(seconds=i) for i in x]\n",
        "\n",
        "comp=compression(0.025)\n",
        "xc=[]\n",
        "yc=[]\n",
        "for i in range(len(x)):\n",
        "  pval=comp.calculate(x[i],y[i])\n",
        "  if pval:\n",
        "    xc.append(pval[0])\n",
        "    yc.append(pval[1])\n",
        "\n",
        "fig=px.line(x=x,y=y)\n",
        "fig.add_scatter(x=xc,y=yc,name='compressed')\n",
        "fig.update_layout({'plot_bgcolor': 'rgba(0, 0, 0, 0)',\n",
        "              'paper_bgcolor': 'rgba(0, 0, 0, 0)',\n",
        "              'font_family':\"Courier New\",\n",
        "              'font_size':14,\n",
        "              'font_color':\"white\",\n",
        "              'title_font_family':\"Courier New\",\n",
        "              'title_font_color':\"white\",})\n",
        "fig.show()"
      ],
      "metadata": {
        "colab": {
          "base_uri": "https://localhost:8080/",
          "height": 542
        },
        "id": "P0ARwrEvZQ_q",
        "outputId": "a353f6c5-8c73-46a6-b0af-09ba0bcefcf9"
      },
      "execution_count": 40,
      "outputs": [
        {
          "output_type": "display_data",
          "data": {
            "text/html": [
              "<html>\n",
              "<head><meta charset=\"utf-8\" /></head>\n",
              "<body>\n",
              "    <div>            <script src=\"https://cdnjs.cloudflare.com/ajax/libs/mathjax/2.7.5/MathJax.js?config=TeX-AMS-MML_SVG\"></script><script type=\"text/javascript\">if (window.MathJax) {MathJax.Hub.Config({SVG: {font: \"STIX-Web\"}});}</script>                <script type=\"text/javascript\">window.PlotlyConfig = {MathJaxConfig: 'local'};</script>\n",
              "        <script src=\"https://cdn.plot.ly/plotly-2.8.3.min.js\"></script>                <div id=\"6789c7ad-4098-4419-962f-6b3bba070252\" class=\"plotly-graph-div\" style=\"height:525px; width:100%;\"></div>            <script type=\"text/javascript\">                                    window.PLOTLYENV=window.PLOTLYENV || {};                                    if (document.getElementById(\"6789c7ad-4098-4419-962f-6b3bba070252\")) {                    Plotly.newPlot(                        \"6789c7ad-4098-4419-962f-6b3bba070252\",                        [{\"hovertemplate\":\"x=%{x}<br>y=%{y}<extra></extra>\",\"legendgroup\":\"\",\"line\":{\"color\":\"#636efa\",\"dash\":\"solid\"},\"marker\":{\"symbol\":\"circle\"},\"mode\":\"lines\",\"name\":\"\",\"orientation\":\"v\",\"showlegend\":false,\"x\":[\"2022-01-01T08:00:00\",\"2022-01-01T08:00:01\",\"2022-01-01T08:00:02\",\"2022-01-01T08:00:03\",\"2022-01-01T08:00:04\",\"2022-01-01T08:00:05\",\"2022-01-01T08:00:06\",\"2022-01-01T08:00:07\",\"2022-01-01T08:00:08\",\"2022-01-01T08:00:09\",\"2022-01-01T08:00:10\",\"2022-01-01T08:00:11\",\"2022-01-01T08:00:12\",\"2022-01-01T08:00:13\",\"2022-01-01T08:00:14\",\"2022-01-01T08:00:15\",\"2022-01-01T08:00:16\",\"2022-01-01T08:00:17\",\"2022-01-01T08:00:18\",\"2022-01-01T08:00:19\",\"2022-01-01T08:00:20\",\"2022-01-01T08:00:21\",\"2022-01-01T08:00:22\",\"2022-01-01T08:00:23\",\"2022-01-01T08:00:24\",\"2022-01-01T08:00:25\",\"2022-01-01T08:00:26\",\"2022-01-01T08:00:27\",\"2022-01-01T08:00:28\",\"2022-01-01T08:00:29\",\"2022-01-01T08:00:30\",\"2022-01-01T08:00:31\",\"2022-01-01T08:00:32\",\"2022-01-01T08:00:33\",\"2022-01-01T08:00:34\",\"2022-01-01T08:00:35\",\"2022-01-01T08:00:36\",\"2022-01-01T08:00:37\",\"2022-01-01T08:00:38\",\"2022-01-01T08:00:39\",\"2022-01-01T08:00:40\",\"2022-01-01T08:00:41\",\"2022-01-01T08:00:42\",\"2022-01-01T08:00:43\",\"2022-01-01T08:00:44\",\"2022-01-01T08:00:45\",\"2022-01-01T08:00:46\",\"2022-01-01T08:00:47\",\"2022-01-01T08:00:48\",\"2022-01-01T08:00:49\",\"2022-01-01T08:00:50\",\"2022-01-01T08:00:51\",\"2022-01-01T08:00:52\",\"2022-01-01T08:00:53\",\"2022-01-01T08:00:54\",\"2022-01-01T08:00:55\",\"2022-01-01T08:00:56\",\"2022-01-01T08:00:57\",\"2022-01-01T08:00:58\",\"2022-01-01T08:00:59\",\"2022-01-01T08:01:00\",\"2022-01-01T08:01:01\",\"2022-01-01T08:01:02\",\"2022-01-01T08:01:03\",\"2022-01-01T08:01:04\",\"2022-01-01T08:01:05\",\"2022-01-01T08:01:06\",\"2022-01-01T08:01:07\",\"2022-01-01T08:01:08\",\"2022-01-01T08:01:09\",\"2022-01-01T08:01:10\",\"2022-01-01T08:01:11\",\"2022-01-01T08:01:12\",\"2022-01-01T08:01:13\",\"2022-01-01T08:01:14\",\"2022-01-01T08:01:15\",\"2022-01-01T08:01:16\",\"2022-01-01T08:01:17\",\"2022-01-01T08:01:18\",\"2022-01-01T08:01:19\",\"2022-01-01T08:01:20\",\"2022-01-01T08:01:21\",\"2022-01-01T08:01:22\",\"2022-01-01T08:01:23\",\"2022-01-01T08:01:24\",\"2022-01-01T08:01:25\",\"2022-01-01T08:01:26\",\"2022-01-01T08:01:27\",\"2022-01-01T08:01:28\",\"2022-01-01T08:01:29\",\"2022-01-01T08:01:30\",\"2022-01-01T08:01:31\",\"2022-01-01T08:01:32\",\"2022-01-01T08:01:33\",\"2022-01-01T08:01:34\",\"2022-01-01T08:01:35\",\"2022-01-01T08:01:36\",\"2022-01-01T08:01:37\",\"2022-01-01T08:01:38\",\"2022-01-01T08:01:39\"],\"xaxis\":\"x\",\"y\":[0.0,0.09983341664682815,0.19866933079506122,0.29552020666133955,0.3894183423086505,0.479425538604203,0.5646424733950354,0.644217687237691,0.7173560908995228,0.7833269096274834,0.8414709848078965,0.8912073600614354,0.9320390859672263,0.963558185417193,0.9854497299884601,0.9974949866040544,0.9995736030415051,0.9916648104524686,0.9738476308781951,0.9463000876874145,0.9092974268256817,0.8632093666488737,0.8084964038195901,0.7457052121767203,0.675463180551151,0.5984721441039565,0.5155013718214642,0.4273798802338298,0.3349881501559051,0.23924932921398243,0.1411200080598672,0.04158066243329049,-0.058374143427580086,-0.1577456941432482,-0.2555411020268312,-0.35078322768961984,-0.44252044329485246,-0.5298361409084934,-0.6118578909427189,-0.6877661591839738,-0.7568024953079282,-0.8182771110644103,-0.8715757724135882,-0.9161659367494549,-0.951602073889516,-0.977530117665097,-0.9936910036334644,-0.9999232575641008,-0.9961646088358407,-0.9824526126243325,-0.9589242746631385,-0.9258146823277325,-0.8834546557201531,-0.8322674422239013,-0.7727644875559871,-0.7055403255703919,-0.6312666378723216,-0.5506855425976376,-0.46460217941375737,-0.373876664830236,-0.27941549819892586,-0.18216250427209588,-0.0830894028174964,0.016813900484349713,0.11654920485049364,0.21511998808781552,0.31154136351337786,0.4048499206165983,0.49411335113860816,0.5784397643882001,0.6569865987187891,0.7289690401258759,0.7936678638491531,0.8504366206285644,0.8987080958116269,0.9379999767747389,0.9679196720314863,0.9881682338770004,0.998543345374605,0.998941341839772,0.9893582466233818,0.9698898108450863,0.9407305566797731,0.9021718337562933,0.8545989080882804,0.7984871126234903,0.7343970978741133,0.6629692300821833,0.5849171928917617,0.5010208564578846,0.4121184852417566,0.3190983623493521,0.22288991410024764,0.1244544235070617,0.024775425453357765,-0.0751511204618093,-0.17432678122297965,-0.27176062641094245,-0.3664791292519284,-0.45753589377532133],\"yaxis\":\"y\",\"type\":\"scatter\"},{\"name\":\"compressed\",\"x\":[\"2022-01-01T08:00:00\",\"2022-01-01T08:00:12\",\"2022-01-01T08:00:18\",\"2022-01-01T08:00:25\",\"2022-01-01T08:00:38\",\"2022-01-01T08:00:43\",\"2022-01-01T08:00:47\",\"2022-01-01T08:00:51\",\"2022-01-01T08:00:56\",\"2022-01-01T08:01:05\",\"2022-01-01T08:01:15\",\"2022-01-01T08:01:21\",\"2022-01-01T08:01:28\"],\"y\":[0.0,0.9320390859672263,0.9738476308781951,0.5984721441039565,-0.6118578909427189,-0.9161659367494549,-0.9999232575641008,-0.9258146823277325,-0.6312666378723216,0.21511998808781552,0.9379999767747389,0.9698898108450863,0.5849171928917617],\"type\":\"scatter\"}],                        {\"template\":{\"data\":{\"bar\":[{\"error_x\":{\"color\":\"#2a3f5f\"},\"error_y\":{\"color\":\"#2a3f5f\"},\"marker\":{\"line\":{\"color\":\"#E5ECF6\",\"width\":0.5},\"pattern\":{\"fillmode\":\"overlay\",\"size\":10,\"solidity\":0.2}},\"type\":\"bar\"}],\"barpolar\":[{\"marker\":{\"line\":{\"color\":\"#E5ECF6\",\"width\":0.5},\"pattern\":{\"fillmode\":\"overlay\",\"size\":10,\"solidity\":0.2}},\"type\":\"barpolar\"}],\"carpet\":[{\"aaxis\":{\"endlinecolor\":\"#2a3f5f\",\"gridcolor\":\"white\",\"linecolor\":\"white\",\"minorgridcolor\":\"white\",\"startlinecolor\":\"#2a3f5f\"},\"baxis\":{\"endlinecolor\":\"#2a3f5f\",\"gridcolor\":\"white\",\"linecolor\":\"white\",\"minorgridcolor\":\"white\",\"startlinecolor\":\"#2a3f5f\"},\"type\":\"carpet\"}],\"choropleth\":[{\"colorbar\":{\"outlinewidth\":0,\"ticks\":\"\"},\"type\":\"choropleth\"}],\"contour\":[{\"colorbar\":{\"outlinewidth\":0,\"ticks\":\"\"},\"colorscale\":[[0.0,\"#0d0887\"],[0.1111111111111111,\"#46039f\"],[0.2222222222222222,\"#7201a8\"],[0.3333333333333333,\"#9c179e\"],[0.4444444444444444,\"#bd3786\"],[0.5555555555555556,\"#d8576b\"],[0.6666666666666666,\"#ed7953\"],[0.7777777777777778,\"#fb9f3a\"],[0.8888888888888888,\"#fdca26\"],[1.0,\"#f0f921\"]],\"type\":\"contour\"}],\"contourcarpet\":[{\"colorbar\":{\"outlinewidth\":0,\"ticks\":\"\"},\"type\":\"contourcarpet\"}],\"heatmap\":[{\"colorbar\":{\"outlinewidth\":0,\"ticks\":\"\"},\"colorscale\":[[0.0,\"#0d0887\"],[0.1111111111111111,\"#46039f\"],[0.2222222222222222,\"#7201a8\"],[0.3333333333333333,\"#9c179e\"],[0.4444444444444444,\"#bd3786\"],[0.5555555555555556,\"#d8576b\"],[0.6666666666666666,\"#ed7953\"],[0.7777777777777778,\"#fb9f3a\"],[0.8888888888888888,\"#fdca26\"],[1.0,\"#f0f921\"]],\"type\":\"heatmap\"}],\"heatmapgl\":[{\"colorbar\":{\"outlinewidth\":0,\"ticks\":\"\"},\"colorscale\":[[0.0,\"#0d0887\"],[0.1111111111111111,\"#46039f\"],[0.2222222222222222,\"#7201a8\"],[0.3333333333333333,\"#9c179e\"],[0.4444444444444444,\"#bd3786\"],[0.5555555555555556,\"#d8576b\"],[0.6666666666666666,\"#ed7953\"],[0.7777777777777778,\"#fb9f3a\"],[0.8888888888888888,\"#fdca26\"],[1.0,\"#f0f921\"]],\"type\":\"heatmapgl\"}],\"histogram\":[{\"marker\":{\"pattern\":{\"fillmode\":\"overlay\",\"size\":10,\"solidity\":0.2}},\"type\":\"histogram\"}],\"histogram2d\":[{\"colorbar\":{\"outlinewidth\":0,\"ticks\":\"\"},\"colorscale\":[[0.0,\"#0d0887\"],[0.1111111111111111,\"#46039f\"],[0.2222222222222222,\"#7201a8\"],[0.3333333333333333,\"#9c179e\"],[0.4444444444444444,\"#bd3786\"],[0.5555555555555556,\"#d8576b\"],[0.6666666666666666,\"#ed7953\"],[0.7777777777777778,\"#fb9f3a\"],[0.8888888888888888,\"#fdca26\"],[1.0,\"#f0f921\"]],\"type\":\"histogram2d\"}],\"histogram2dcontour\":[{\"colorbar\":{\"outlinewidth\":0,\"ticks\":\"\"},\"colorscale\":[[0.0,\"#0d0887\"],[0.1111111111111111,\"#46039f\"],[0.2222222222222222,\"#7201a8\"],[0.3333333333333333,\"#9c179e\"],[0.4444444444444444,\"#bd3786\"],[0.5555555555555556,\"#d8576b\"],[0.6666666666666666,\"#ed7953\"],[0.7777777777777778,\"#fb9f3a\"],[0.8888888888888888,\"#fdca26\"],[1.0,\"#f0f921\"]],\"type\":\"histogram2dcontour\"}],\"mesh3d\":[{\"colorbar\":{\"outlinewidth\":0,\"ticks\":\"\"},\"type\":\"mesh3d\"}],\"parcoords\":[{\"line\":{\"colorbar\":{\"outlinewidth\":0,\"ticks\":\"\"}},\"type\":\"parcoords\"}],\"pie\":[{\"automargin\":true,\"type\":\"pie\"}],\"scatter\":[{\"marker\":{\"colorbar\":{\"outlinewidth\":0,\"ticks\":\"\"}},\"type\":\"scatter\"}],\"scatter3d\":[{\"line\":{\"colorbar\":{\"outlinewidth\":0,\"ticks\":\"\"}},\"marker\":{\"colorbar\":{\"outlinewidth\":0,\"ticks\":\"\"}},\"type\":\"scatter3d\"}],\"scattercarpet\":[{\"marker\":{\"colorbar\":{\"outlinewidth\":0,\"ticks\":\"\"}},\"type\":\"scattercarpet\"}],\"scattergeo\":[{\"marker\":{\"colorbar\":{\"outlinewidth\":0,\"ticks\":\"\"}},\"type\":\"scattergeo\"}],\"scattergl\":[{\"marker\":{\"colorbar\":{\"outlinewidth\":0,\"ticks\":\"\"}},\"type\":\"scattergl\"}],\"scattermapbox\":[{\"marker\":{\"colorbar\":{\"outlinewidth\":0,\"ticks\":\"\"}},\"type\":\"scattermapbox\"}],\"scatterpolar\":[{\"marker\":{\"colorbar\":{\"outlinewidth\":0,\"ticks\":\"\"}},\"type\":\"scatterpolar\"}],\"scatterpolargl\":[{\"marker\":{\"colorbar\":{\"outlinewidth\":0,\"ticks\":\"\"}},\"type\":\"scatterpolargl\"}],\"scatterternary\":[{\"marker\":{\"colorbar\":{\"outlinewidth\":0,\"ticks\":\"\"}},\"type\":\"scatterternary\"}],\"surface\":[{\"colorbar\":{\"outlinewidth\":0,\"ticks\":\"\"},\"colorscale\":[[0.0,\"#0d0887\"],[0.1111111111111111,\"#46039f\"],[0.2222222222222222,\"#7201a8\"],[0.3333333333333333,\"#9c179e\"],[0.4444444444444444,\"#bd3786\"],[0.5555555555555556,\"#d8576b\"],[0.6666666666666666,\"#ed7953\"],[0.7777777777777778,\"#fb9f3a\"],[0.8888888888888888,\"#fdca26\"],[1.0,\"#f0f921\"]],\"type\":\"surface\"}],\"table\":[{\"cells\":{\"fill\":{\"color\":\"#EBF0F8\"},\"line\":{\"color\":\"white\"}},\"header\":{\"fill\":{\"color\":\"#C8D4E3\"},\"line\":{\"color\":\"white\"}},\"type\":\"table\"}]},\"layout\":{\"annotationdefaults\":{\"arrowcolor\":\"#2a3f5f\",\"arrowhead\":0,\"arrowwidth\":1},\"autotypenumbers\":\"strict\",\"coloraxis\":{\"colorbar\":{\"outlinewidth\":0,\"ticks\":\"\"}},\"colorscale\":{\"diverging\":[[0,\"#8e0152\"],[0.1,\"#c51b7d\"],[0.2,\"#de77ae\"],[0.3,\"#f1b6da\"],[0.4,\"#fde0ef\"],[0.5,\"#f7f7f7\"],[0.6,\"#e6f5d0\"],[0.7,\"#b8e186\"],[0.8,\"#7fbc41\"],[0.9,\"#4d9221\"],[1,\"#276419\"]],\"sequential\":[[0.0,\"#0d0887\"],[0.1111111111111111,\"#46039f\"],[0.2222222222222222,\"#7201a8\"],[0.3333333333333333,\"#9c179e\"],[0.4444444444444444,\"#bd3786\"],[0.5555555555555556,\"#d8576b\"],[0.6666666666666666,\"#ed7953\"],[0.7777777777777778,\"#fb9f3a\"],[0.8888888888888888,\"#fdca26\"],[1.0,\"#f0f921\"]],\"sequentialminus\":[[0.0,\"#0d0887\"],[0.1111111111111111,\"#46039f\"],[0.2222222222222222,\"#7201a8\"],[0.3333333333333333,\"#9c179e\"],[0.4444444444444444,\"#bd3786\"],[0.5555555555555556,\"#d8576b\"],[0.6666666666666666,\"#ed7953\"],[0.7777777777777778,\"#fb9f3a\"],[0.8888888888888888,\"#fdca26\"],[1.0,\"#f0f921\"]]},\"colorway\":[\"#636efa\",\"#EF553B\",\"#00cc96\",\"#ab63fa\",\"#FFA15A\",\"#19d3f3\",\"#FF6692\",\"#B6E880\",\"#FF97FF\",\"#FECB52\"],\"font\":{\"color\":\"#2a3f5f\"},\"geo\":{\"bgcolor\":\"white\",\"lakecolor\":\"white\",\"landcolor\":\"#E5ECF6\",\"showlakes\":true,\"showland\":true,\"subunitcolor\":\"white\"},\"hoverlabel\":{\"align\":\"left\"},\"hovermode\":\"closest\",\"mapbox\":{\"style\":\"light\"},\"paper_bgcolor\":\"white\",\"plot_bgcolor\":\"#E5ECF6\",\"polar\":{\"angularaxis\":{\"gridcolor\":\"white\",\"linecolor\":\"white\",\"ticks\":\"\"},\"bgcolor\":\"#E5ECF6\",\"radialaxis\":{\"gridcolor\":\"white\",\"linecolor\":\"white\",\"ticks\":\"\"}},\"scene\":{\"xaxis\":{\"backgroundcolor\":\"#E5ECF6\",\"gridcolor\":\"white\",\"gridwidth\":2,\"linecolor\":\"white\",\"showbackground\":true,\"ticks\":\"\",\"zerolinecolor\":\"white\"},\"yaxis\":{\"backgroundcolor\":\"#E5ECF6\",\"gridcolor\":\"white\",\"gridwidth\":2,\"linecolor\":\"white\",\"showbackground\":true,\"ticks\":\"\",\"zerolinecolor\":\"white\"},\"zaxis\":{\"backgroundcolor\":\"#E5ECF6\",\"gridcolor\":\"white\",\"gridwidth\":2,\"linecolor\":\"white\",\"showbackground\":true,\"ticks\":\"\",\"zerolinecolor\":\"white\"}},\"shapedefaults\":{\"line\":{\"color\":\"#2a3f5f\"}},\"ternary\":{\"aaxis\":{\"gridcolor\":\"white\",\"linecolor\":\"white\",\"ticks\":\"\"},\"baxis\":{\"gridcolor\":\"white\",\"linecolor\":\"white\",\"ticks\":\"\"},\"bgcolor\":\"#E5ECF6\",\"caxis\":{\"gridcolor\":\"white\",\"linecolor\":\"white\",\"ticks\":\"\"}},\"title\":{\"x\":0.05},\"xaxis\":{\"automargin\":true,\"gridcolor\":\"white\",\"linecolor\":\"white\",\"ticks\":\"\",\"title\":{\"standoff\":15},\"zerolinecolor\":\"white\",\"zerolinewidth\":2},\"yaxis\":{\"automargin\":true,\"gridcolor\":\"white\",\"linecolor\":\"white\",\"ticks\":\"\",\"title\":{\"standoff\":15},\"zerolinecolor\":\"white\",\"zerolinewidth\":2}}},\"xaxis\":{\"anchor\":\"y\",\"domain\":[0.0,1.0],\"title\":{\"text\":\"x\"}},\"yaxis\":{\"anchor\":\"x\",\"domain\":[0.0,1.0],\"title\":{\"text\":\"y\"}},\"legend\":{\"tracegroupgap\":0},\"margin\":{\"t\":60},\"font\":{\"family\":\"Courier New\",\"size\":14,\"color\":\"white\"},\"title\":{\"font\":{\"family\":\"Courier New\",\"color\":\"white\"}},\"plot_bgcolor\":\"rgba(0, 0, 0, 0)\",\"paper_bgcolor\":\"rgba(0, 0, 0, 0)\"},                        {\"responsive\": true}                    ).then(function(){\n",
              "                            \n",
              "var gd = document.getElementById('6789c7ad-4098-4419-962f-6b3bba070252');\n",
              "var x = new MutationObserver(function (mutations, observer) {{\n",
              "        var display = window.getComputedStyle(gd).display;\n",
              "        if (!display || display === 'none') {{\n",
              "            console.log([gd, 'removed!']);\n",
              "            Plotly.purge(gd);\n",
              "            observer.disconnect();\n",
              "        }}\n",
              "}});\n",
              "\n",
              "// Listen for the removal of the full notebook cells\n",
              "var notebookContainer = gd.closest('#notebook-container');\n",
              "if (notebookContainer) {{\n",
              "    x.observe(notebookContainer, {childList: true});\n",
              "}}\n",
              "\n",
              "// Listen for the clearing of the current output cell\n",
              "var outputEl = gd.closest('.output');\n",
              "if (outputEl) {{\n",
              "    x.observe(outputEl, {childList: true});\n",
              "}}\n",
              "\n",
              "                        })                };                            </script>        </div>\n",
              "</body>\n",
              "</html>"
            ]
          },
          "metadata": {}
        }
      ]
    }
  ]
}