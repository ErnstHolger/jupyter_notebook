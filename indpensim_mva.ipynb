{
  "nbformat": 4,
  "nbformat_minor": 0,
  "metadata": {
    "colab": {
      "name": "indpensim_mva.ipynb",
      "provenance": [],
      "collapsed_sections": [],
      "authorship_tag": "ABX9TyMuy/rHFEyIqOgGAPkhNz0S",
      "include_colab_link": true
    },
    "kernelspec": {
      "name": "python3",
      "display_name": "Python 3"
    },
    "language_info": {
      "name": "python"
    }
  },
  "cells": [
    {
      "cell_type": "markdown",
      "metadata": {
        "id": "view-in-github",
        "colab_type": "text"
      },
      "source": [
        "<a href=\"https://colab.research.google.com/github/ErnstHolger/jupyter_notebook/blob/main/indpensim_mva.ipynb\" target=\"_parent\"><img src=\"https://colab.research.google.com/assets/colab-badge.svg\" alt=\"Open In Colab\"/></a>"
      ]
    },
    {
      "cell_type": "code",
      "execution_count": 2,
      "metadata": {
        "id": "yzBay-4UuxW-",
        "colab": {
          "base_uri": "https://localhost:8080/"
        },
        "outputId": "afc53725-a4a0-4824-90dc-7a26684af437"
      },
      "outputs": [
        {
          "output_type": "stream",
          "name": "stdout",
          "text": [
            "--2022-01-21 13:33:39--  https://md-datasets-cache-zipfiles-prod.s3.eu-west-1.amazonaws.com/pdnjz7zz5x-1.zip\n",
            "Resolving md-datasets-cache-zipfiles-prod.s3.eu-west-1.amazonaws.com (md-datasets-cache-zipfiles-prod.s3.eu-west-1.amazonaws.com)... 52.218.105.251\n",
            "Connecting to md-datasets-cache-zipfiles-prod.s3.eu-west-1.amazonaws.com (md-datasets-cache-zipfiles-prod.s3.eu-west-1.amazonaws.com)|52.218.105.251|:443... connected.\n",
            "HTTP request sent, awaiting response... 200 OK\n",
            "Length: 494905983 (472M) [application/octet-stream]\n",
            "Saving to: ‘pdnjz7zz5x-1.zip’\n",
            "\n",
            "pdnjz7zz5x-1.zip    100%[===================>] 471.98M  18.1MB/s    in 26s     \n",
            "\n",
            "2022-01-21 13:34:06 (18.3 MB/s) - ‘pdnjz7zz5x-1.zip’ saved [494905983/494905983]\n",
            "\n",
            "Archive:  /content/pdnjz7zz5x-1.zip\n",
            "  inflating: /content/data/100_Batches_IndPenSim.zip  \n",
            "Archive:  /content/data/100_Batches_IndPenSim.zip\n",
            "   creating: /content/data/Mendeley_data/\n",
            "  inflating: /content/data/Mendeley_data/100_Batches_IndPenSim_Statistics.csv  \n",
            "  inflating: /content/data/Mendeley_data/100_Batches_IndPenSim_V3.csv  \n"
          ]
        }
      ],
      "source": [
        "!wget https://md-datasets-cache-zipfiles-prod.s3.eu-west-1.amazonaws.com/pdnjz7zz5x-1.zip\n",
        "!unzip /content/pdnjz7zz5x-1.zip -d /content/data\n",
        "!unzip /content/data/100_Batches_IndPenSim.zip -d /content/data/"
      ]
    },
    {
      "cell_type": "code",
      "source": [
        "import pandas as pd"
      ],
      "metadata": {
        "id": "UBVkNrdg2JSN"
      },
      "execution_count": 3,
      "outputs": []
    },
    {
      "cell_type": "code",
      "source": [
        "config = pd.read_csv('/content/data/Mendeley_data/100_Batches_IndPenSim_Statistics.csv')\n",
        "for column in config.columns:\n",
        "  print(\"config: \"+column)\n",
        "df = pd.read_csv('/content/data/Mendeley_data/100_Batches_IndPenSim_V3.csv')\n",
        "n = 0\n",
        "for column in df.columns:\n",
        "  print(str(n)+\": \"+column)\n",
        "  n+=1\n"
      ],
      "metadata": {
        "id": "jqqSQDwp2OHF"
      },
      "execution_count": null,
      "outputs": []
    },
    {
      "cell_type": "markdown",
      "source": [
        ""
      ],
      "metadata": {
        "id": "l7DT-ui-4HSn"
      }
    },
    {
      "cell_type": "code",
      "source": [
        "proc = df[df.columns[0:39]]\n",
        "raman = df[df.columns[40:]]\n",
        "print(proc.head())\n",
        "print(raman.head())\n",
        "\n"
      ],
      "metadata": {
        "colab": {
          "base_uri": "https://localhost:8080/"
        },
        "id": "2WHra8pa13YA",
        "outputId": "77bdf35d-41db-4113-dbea-d18fd4ee6242"
      },
      "execution_count": 9,
      "outputs": [
        {
          "output_type": "stream",
          "name": "stdout",
          "text": [
            "   Time (h)  Aeration rate(Fg:L/h)  ...  Batch ID  Fault flag\n",
            "0       0.2                     30  ...       0.0         0.0\n",
            "1       0.4                     30  ...       0.0         0.0\n",
            "2       0.6                     30  ...       0.0         0.0\n",
            "3       0.8                     30  ...       0.0         0.0\n",
            "4       1.0                     30  ...       0.0         0.0\n",
            "\n",
            "[5 rows x 39 columns]\n",
            "   2399  2398  2397  2396  2395  2394  2393  ...  207  206  205  204  203  202  201\n",
            "0   0.0   0.0   0.0   0.0   0.0   0.0   0.0  ...  0.0  0.0  0.0  0.0  0.0  NaN  NaN\n",
            "1   0.0   0.0   0.0   0.0   0.0   0.0   0.0  ...  0.0  0.0  0.0  0.0  0.0  NaN  NaN\n",
            "2   0.0   0.0   0.0   0.0   0.0   0.0   0.0  ...  0.0  0.0  0.0  0.0  0.0  NaN  NaN\n",
            "3   0.0   0.0   0.0   0.0   0.0   0.0   0.0  ...  0.0  0.0  0.0  0.0  0.0  NaN  NaN\n",
            "4   0.0   0.0   0.0   0.0   0.0   0.0   0.0  ...  0.0  0.0  0.0  0.0  0.0  NaN  NaN\n",
            "\n",
            "[5 rows x 2199 columns]\n"
          ]
        }
      ]
    }
  ]
}